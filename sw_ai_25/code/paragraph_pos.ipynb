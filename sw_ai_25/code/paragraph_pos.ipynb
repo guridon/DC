{
 "cells": [
  {
   "cell_type": "code",
   "execution_count": 1,
   "id": "2ce9896d",
   "metadata": {},
   "outputs": [],
   "source": [
    "import pandas as pd\n",
    "import pickle\n",
    "# from konlpy.tag import Mecab\n",
    "#from mecab import MeCab\n",
    "\n",
    "from kiwipiepy import Kiwi\n",
    "\n",
    "from joblib import Parallel, delayed\n",
    "from tqdm import tqdm\n",
    "import multiprocessing\n",
    "import os"
   ]
  },
  {
   "cell_type": "code",
   "execution_count": null,
   "id": "79403635",
   "metadata": {},
   "outputs": [],
   "source": [
    "train_paragraph=pd.read_csv(\"../data/train_paragraph.csv\")"
   ]
  },
  {
   "cell_type": "code",
   "execution_count": null,
   "id": "6055d0e2",
   "metadata": {},
   "outputs": [],
   "source": [
    "train_paragraph.head(1)"
   ]
  },
  {
   "cell_type": "code",
   "execution_count": 2,
   "id": "9f5b833d",
   "metadata": {},
   "outputs": [],
   "source": [
    "input_csv = \"../data/train_paragraph.csv\"\n",
    "output_dir = \"../data/paragraph_pos\"\n",
    "os.makedirs(output_dir, exist_ok=True)"
   ]
  },
  {
   "cell_type": "code",
   "execution_count": 3,
   "id": "8b35db31",
   "metadata": {},
   "outputs": [],
   "source": [
    "batch_size = 150000  # 저장할 문단 수 기준\n",
    "batch_counter = 1\n",
    "current_batch = []\n",
    "current_count = 0\n",
    "chunksize = 50000"
   ]
  },
  {
   "cell_type": "code",
   "execution_count": null,
   "id": "7da7f560",
   "metadata": {},
   "outputs": [],
   "source": [
    "def process_title_group(group):\n",
    "    try:\n",
    "        local_kiwi = Kiwi()\n",
    "        new_group = group[['title', 'paragraph_index', 'generated']].copy()\n",
    "        new_group['paragraph_pos'] = group['paragraph_text'].apply(\n",
    "            lambda text: [(token.form, token.tag) for token in local_kiwi.analyze(text)[0][0]]\n",
    "        )\n",
    "        return new_group\n",
    "    except Exception as e:\n",
    "        print(f\"[Error] title: {group['title'].iloc[0]} - {e}\")\n",
    "        return pd.DataFrame() \n",
    "\n",
    "try:\n",
    "    with open(input_csv, 'r', encoding='utf-8') as f:\n",
    "        total_lines = sum(1 for _ in f) - 1\n",
    "    total_chunks = (total_lines // chunksize) + 1\n",
    "\n",
    "    reader = pd.read_csv(input_csv, chunksize=chunksize)\n",
    "    with tqdm(total=total_chunks, desc=\"Chunk processing\") as pbar:\n",
    "        for chunk in reader:\n",
    "            title_groups = [group for _, group in chunk.groupby('title')]\n",
    "            group_sizes = [len(g) for g in title_groups]\n",
    "            idx = 0\n",
    "            while idx < len(title_groups):\n",
    "                group = title_groups[idx]\n",
    "                group_size = group_sizes[idx]\n",
    "                if current_count + group_size > batch_size:\n",
    "                    print(f\"[Batch {batch_counter}] Processing {len(current_batch)} title groups...\")\n",
    "                    processed = Parallel(n_jobs=multiprocessing.cpu_count())(\n",
    "                        delayed(process_title_group)(g) for g in tqdm(current_batch, desc=\"Title group POS\", leave=False)\n",
    "                    )\n",
    "                    batch_df = pd.concat(processed, ignore_index=True)\n",
    "                    batch_df.to_pickle(os.path.join(output_dir, f\"paragraph_pos_{batch_counter}.pkl\"))\n",
    "                    print(f\"[Batch {batch_counter}] Saved {len(batch_df)} rows.\")\n",
    "                    batch_counter += 1\n",
    "                    current_batch = [group]\n",
    "                    current_count = group_size\n",
    "                else:\n",
    "                    current_batch.append(group)\n",
    "                    current_count += group_size\n",
    "                idx += 1\n",
    "            pbar.update(1)\n",
    "\n",
    "    if current_batch:\n",
    "        print(f\"[Batch {batch_counter}] Processing {len(current_batch)} title groups (last batch)...\")\n",
    "        processed = Parallel(n_jobs=multiprocessing.cpu_count())(\n",
    "            delayed(process_title_group)(g) for g in tqdm(current_batch, desc=\"Title group POS\", leave=False)\n",
    "        )\n",
    "        batch_df = pd.concat(processed, ignore_index=True)\n",
    "        batch_df.to_pickle(os.path.join(output_dir, f\"paragraph_pos_{batch_counter}.pkl\"))\n",
    "        print(f\"[Batch {batch_counter}] Saved {len(batch_df)} rows.\")\n",
    "\n",
    "except Exception as e:\n",
    "    print(f\"[Fatal Error] {e}\")\n"
   ]
  }
 ],
 "metadata": {
  "kernelspec": {
   "display_name": "datasci",
   "language": "python",
   "name": "python3"
  },
  "language_info": {
   "codemirror_mode": {
    "name": "ipython",
    "version": 3
   },
   "file_extension": ".py",
   "mimetype": "text/x-python",
   "name": "python",
   "nbconvert_exporter": "python",
   "pygments_lexer": "ipython3",
   "version": "3.10.12"
  }
 },
 "nbformat": 4,
 "nbformat_minor": 5
}

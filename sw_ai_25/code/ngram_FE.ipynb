{
 "cells": [
  {
   "cell_type": "code",
   "execution_count": 2,
   "id": "32f30b86",
   "metadata": {},
   "outputs": [],
   "source": [
    "from konlpy.tag import Komoran  # 또는 Okt, Kkma 등\n",
    "import pandas as pd\n",
    "from collections import Counter\n",
    "from tqdm import tqdm\n",
    "tqdm.pandas()"
   ]
  },
  {
   "cell_type": "code",
   "execution_count": 3,
   "id": "c917a02c",
   "metadata": {},
   "outputs": [],
   "source": [
    "df=pd.read_csv(\"../data/train_paragraph.csv\")"
   ]
  },
  {
   "cell_type": "code",
   "execution_count": 4,
   "id": "eeab0627",
   "metadata": {},
   "outputs": [],
   "source": [
    "komoran = Komoran()\n",
    "\n",
    "def extract_ngram_with_konlpy(text, n=3):\n",
    "    try:\n",
    "        def get_ngrams(tokens, n):\n",
    "            return [' '.join(tokens[i:i+n]) for i in range(len(tokens)-n+1)]\n",
    "        tokens = komoran.morphs(text)\n",
    "        return get_ngrams(tokens, n)   \n",
    "    except Exception as e:\n",
    "        print(f\"Error processing: {text[:30]}... | {e}\")\n",
    "        return []\n",
    "\n",
    "def ngram_features(ngrams):\n",
    "    ngram_counts = Counter(ngrams)\n",
    "    total = sum(ngram_counts.values())\n",
    "    unique = len(ngram_counts)\n",
    "    most_common = ngram_counts.most_common(1)[0][1] if ngram_counts else 0\n",
    "    diversity = unique / total if total else 0\n",
    "    return pd.Series({\n",
    "    'ngram_total': total,\n",
    "    'ngram_unique': unique,\n",
    "    'ngram_max_freq': most_common,\n",
    "    'ngram_diversity': diversity\n",
    "    })\n"
   ]
  },
  {
   "cell_type": "code",
   "execution_count": null,
   "id": "66bfe2bf",
   "metadata": {},
   "outputs": [
    {
     "name": "stderr",
     "output_type": "stream",
     "text": [
      " 12%|█▏        | 145556/1226364 [04:21<25:29, 706.63it/s]"
     ]
    },
    {
     "name": "stdout",
     "output_type": "stream",
     "text": [
      "Error processing: EP.14 과열되는 짝꿍 경쟁 속 🔥 보석예고 최고 인... | 'utf-8' codec can't decode byte 0xed in position 0: invalid continuation byte\n",
      "Error processing: EP.15 🥕트레저의 상상초월 요리 레시피 🥕우당탕탕 ... | 'utf-8' codec can't decode byte 0xed in position 0: invalid continuation byte\n",
      "Error processing: EP.19 치밀한 두뇌싸움 없는 순한맛 🚨 트레저 미션... | 'utf-8' codec can't decode byte 0xed in position 0: invalid continuation byte\n",
      "Error processing: EP.20 🚨 (데뷔임박)아이돌 인성테스트 🚨 완전 리... | 'utf-8' codec can't decode byte 0xed in position 0: invalid continuation byte\n",
      "Error processing: EP.21 🎤 우연히 만난 트레저에게 노래를 불러달라고... | 'utf-8' codec can't decode byte 0xed in position 0: invalid continuation byte\n",
      "Error processing: EP.23 🔎 트레저가 찾는 트레저찾기 대반전 🔍 보석... | 'utf-8' codec can't decode byte 0xed in position 0: invalid continuation byte\n",
      "Error processing: EP.35 🎬 트레저 웹드라마 주인공 오디션 🎬 (개그... | 'utf-8' codec can't decode byte 0xed in position 0: invalid continuation byte\n",
      "Error processing: EP.38 🛷 트레저맵 셀프 분량 뽑기 🛷 눈썰매장에서... | 'utf-8' codec can't decode byte 0xed in position 0: invalid continuation byte\n",
      "Error processing: EP.47 🎊 트레저+키즈 명랑 운동회 🎊 꿀 떨어지는... | 'utf-8' codec can't decode byte 0xed in position 0: invalid continuation byte\n"
     ]
    },
    {
     "name": "stderr",
     "output_type": "stream",
     "text": [
      " 25%|██▍       | 302691/1226364 [10:34<24:32, 627.21it/s]  "
     ]
    },
    {
     "name": "stdout",
     "output_type": "stream",
     "text": [
      "Error processing: 6. 22년 1월31일, 이랜드몰은 그동안에 엔드 유저... | 'utf-8' codec can't decode byte 0xed in position 0: invalid continuation byte\n",
      "Error processing: 😘이랜드키즈 인스타그램... | 'utf-8' codec can't decode byte 0xed in position 0: invalid continuation byte\n"
     ]
    },
    {
     "name": "stderr",
     "output_type": "stream",
     "text": [
      " 31%|███       | 383154/1226364 [14:16<55:32, 253.03it/s]  "
     ]
    },
    {
     "name": "stdout",
     "output_type": "stream",
     "text": [
      "Error processing: 2014년 현재 목성과 그 주변의 계를 탐사할 계획 2... | 'utf-8' codec can't decode byte 0xed in position 0: invalid continuation byte\n"
     ]
    },
    {
     "name": "stderr",
     "output_type": "stream",
     "text": [
      " 43%|████▎     | 531691/1226364 [22:07<40:00, 289.39it/s]  "
     ]
    },
    {
     "name": "stdout",
     "output_type": "stream",
     "text": [
      "Error processing: 📖양천허씨족보📖에서는 허준을 서자로 기록해 놓고 있다.... | 'utf-8' codec can't decode byte 0xed in position 0: invalid continuation byte\n"
     ]
    },
    {
     "name": "stderr",
     "output_type": "stream",
     "text": [
      " 63%|██████▎   | 772535/1226364 [37:54<25:45, 293.62it/s]  "
     ]
    },
    {
     "name": "stdout",
     "output_type": "stream",
     "text": [
      "Error processing: 머리는 달걀 모양이고, 좌우보다 앞뒤가 길다; 주둥이는... | 'utf-8' codec can't decode byte 0xed in position 0: invalid continuation byte\n"
     ]
    },
    {
     "name": "stderr",
     "output_type": "stream",
     "text": [
      " 80%|███████▉  | 977748/1226364 [53:37<12:32, 330.39it/s] "
     ]
    },
    {
     "name": "stdout",
     "output_type": "stream",
     "text": [
      "Error processing: 인공지능 연구자인 로먼 얌폴스키는 테이가 다른 트위터 ... | 'utf-8' codec can't decode byte 0xed in position 0: invalid continuation byte\n"
     ]
    },
    {
     "name": "stderr",
     "output_type": "stream",
     "text": [
      " 81%|████████  | 990763/1226364 [54:45<12:15, 320.41it/s]"
     ]
    },
    {
     "name": "stdout",
     "output_type": "stream",
     "text": [
      "Error processing: 매장의 로고는 「이키나리 🚀 스테이크」처럼 느낌표 부분... | 'utf-8' codec can't decode byte 0xed in position 0: invalid continuation byte\n"
     ]
    },
    {
     "name": "stderr",
     "output_type": "stream",
     "text": [
      " 83%|████████▎ | 1015149/1226364 [56:49<12:36, 279.23it/s]"
     ]
    },
    {
     "name": "stdout",
     "output_type": "stream",
     "text": [
      "Error processing: 2021년 3월 2일, 티빙몰 홈페이지에 여고추리반 첫... | 'utf-8' codec can't decode byte 0xed in position 0: invalid continuation byte\n"
     ]
    },
    {
     "name": "stderr",
     "output_type": "stream",
     "text": [
      " 87%|████████▋ | 1067621/1226364 [1:02:40<38:54, 68.00it/s]  "
     ]
    }
   ],
   "source": [
    "df['ngrams'] = df['paragraph_text'].progress_apply(lambda x: extract_ngram_with_konlpy(x, n=3))"
   ]
  },
  {
   "cell_type": "code",
   "execution_count": null,
   "id": "7ba0c65a",
   "metadata": {},
   "outputs": [],
   "source": [
    "ngram_features = df['ngrams'].progress_apply(ngram_features)\n",
    "df = pd.concat([df, ngram_features], axis=1)"
   ]
  },
  {
   "cell_type": "code",
   "execution_count": null,
   "id": "191f5199",
   "metadata": {},
   "outputs": [],
   "source": [
    "df.to_csv(\"../data/train_para_ngram.csv\", index=False)"
   ]
  }
 ],
 "metadata": {
  "kernelspec": {
   "display_name": "bgem3",
   "language": "python",
   "name": "python3"
  },
  "language_info": {
   "codemirror_mode": {
    "name": "ipython",
    "version": 3
   },
   "file_extension": ".py",
   "mimetype": "text/x-python",
   "name": "python",
   "nbconvert_exporter": "python",
   "pygments_lexer": "ipython3",
   "version": "undefined.undefined.undefined"
  }
 },
 "nbformat": 4,
 "nbformat_minor": 5
}

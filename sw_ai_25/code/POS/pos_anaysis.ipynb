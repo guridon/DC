{
 "cells": [
  {
   "cell_type": "code",
   "execution_count": 20,
   "id": "265e6895",
   "metadata": {},
   "outputs": [],
   "source": [
    "import pickle\n",
    "import pandas as pd\n",
    "from tqdm import tqdm\n",
    "import numpy as np\n",
    "\n",
    "import os\n",
    "import re"
   ]
  },
  {
   "cell_type": "code",
   "execution_count": 6,
   "id": "94b7229c",
   "metadata": {},
   "outputs": [
    {
     "name": "stdout",
     "output_type": "stream",
     "text": [
      "['train_paragraph_pos_0.pkl', 'train_paragraph_pos_1.pkl', 'train_paragraph_pos_2.pkl', 'train_paragraph_pos_3.pkl', 'train_paragraph_pos_4.pkl', 'train_paragraph_pos_5.pkl']\n"
     ]
    }
   ],
   "source": [
    "output_dir=\"../../data/train_pid_paragraph_pos\"\n",
    "start=\"train_paragraph_pos_\"\n",
    "end=\".pkl\"\n",
    "pkl_files = [fname for fname in os.listdir(output_dir) if fname.startswith(start) and fname.endswith(end)]\n",
    "def natural_key(s):\n",
    "    return [int(text) if text.isdigit() else text.lower() for text in re.split('(\\d+)', s)]\n",
    "pkl_files.sort(key=natural_key)\n",
    "print(pkl_files)"
   ]
  },
  {
   "cell_type": "code",
   "execution_count": 7,
   "id": "bb713c29",
   "metadata": {},
   "outputs": [
    {
     "name": "stdout",
     "output_type": "stream",
     "text": [
      "파일 크기: 292505716 바이트\n",
      "파일 크기: 294683134 바이트\n",
      "파일 크기: 294973189 바이트\n",
      "파일 크기: 297629285 바이트\n",
      "파일 크기: 296104158 바이트\n",
      "파일 크기: 303195295 바이트\n"
     ]
    }
   ],
   "source": [
    "for file_name in sorted(pkl_files):\n",
    "    size=os.path.getsize(os.path.join(output_dir, file_name))\n",
    "    print(f\"파일 크기: {size} 바이트\")"
   ]
  },
  {
   "cell_type": "code",
   "execution_count": 8,
   "id": "9277cf4c",
   "metadata": {},
   "outputs": [
    {
     "name": "stderr",
     "output_type": "stream",
     "text": [
      "paragraph_pos_idx.pkl 병합: 100%|██████████| 6/6 [00:59<00:00,  9.96s/it]\n"
     ]
    }
   ],
   "source": [
    "dfs = []\n",
    "for fname in tqdm(pkl_files, desc=\"paragraph_pos_idx.pkl 병합: \"):\n",
    "    df = pd.read_pickle(os.path.join(output_dir, fname))\n",
    "    dfs.append(df)\n",
    "all_df = pd.concat(dfs, ignore_index=True)"
   ]
  },
  {
   "cell_type": "code",
   "execution_count": 10,
   "id": "2dec032b",
   "metadata": {},
   "outputs": [
    {
     "data": {
      "text/plain": [
       "PID                 int64\n",
       "title              object\n",
       "paragraph_index     int64\n",
       "paragraph_pos      object\n",
       "generated           int64\n",
       "dtype: object"
      ]
     },
     "execution_count": 10,
     "metadata": {},
     "output_type": "execute_result"
    }
   ],
   "source": [
    "all_df.dtypes"
   ]
  },
  {
   "cell_type": "code",
   "execution_count": 15,
   "id": "e3e2f13b",
   "metadata": {},
   "outputs": [
    {
     "data": {
      "text/html": [
       "<div>\n",
       "<style scoped>\n",
       "    .dataframe tbody tr th:only-of-type {\n",
       "        vertical-align: middle;\n",
       "    }\n",
       "\n",
       "    .dataframe tbody tr th {\n",
       "        vertical-align: top;\n",
       "    }\n",
       "\n",
       "    .dataframe thead th {\n",
       "        text-align: right;\n",
       "    }\n",
       "</style>\n",
       "<table border=\"1\" class=\"dataframe\">\n",
       "  <thead>\n",
       "    <tr style=\"text-align: right;\">\n",
       "      <th></th>\n",
       "      <th>PID</th>\n",
       "      <th>title</th>\n",
       "      <th>paragraph_index</th>\n",
       "      <th>paragraph_pos</th>\n",
       "      <th>generated</th>\n",
       "    </tr>\n",
       "  </thead>\n",
       "  <tbody>\n",
       "    <tr>\n",
       "      <th>0</th>\n",
       "      <td>0</td>\n",
       "      <td>카호올라웨섬</td>\n",
       "      <td>0</td>\n",
       "      <td>[(카호올라웨, NNP), (섬, NNG), (은, JX), (하와이, NNP), ...</td>\n",
       "      <td>0</td>\n",
       "    </tr>\n",
       "  </tbody>\n",
       "</table>\n",
       "</div>"
      ],
      "text/plain": [
       "   PID   title  paragraph_index  \\\n",
       "0    0  카호올라웨섬                0   \n",
       "\n",
       "                                       paragraph_pos  generated  \n",
       "0  [(카호올라웨, NNP), (섬, NNG), (은, JX), (하와이, NNP), ...          0  "
      ]
     },
     "execution_count": 15,
     "metadata": {},
     "output_type": "execute_result"
    }
   ],
   "source": [
    "all_df.head(1)"
   ]
  },
  {
   "cell_type": "code",
   "execution_count": 14,
   "id": "facb9570",
   "metadata": {},
   "outputs": [
    {
     "name": "stdout",
     "output_type": "stream",
     "text": [
      "1226364\n",
      "97172\n",
      "1226364\n"
     ]
    }
   ],
   "source": [
    "print(len(all_df))\n",
    "print(all_df[\"title\"].nunique())\n",
    "print(all_df.groupby([\"title\",\"paragraph_index\"]).ngroups)"
   ]
  },
  {
   "cell_type": "code",
   "execution_count": 18,
   "id": "0cad2431",
   "metadata": {},
   "outputs": [],
   "source": [
    "save_dir=\"../../data/train_paragraph_pos\""
   ]
  },
  {
   "cell_type": "code",
   "execution_count": null,
   "id": "57cc5274",
   "metadata": {},
   "outputs": [
    {
     "name": "stderr",
     "output_type": "stream",
     "text": [
      "astype 진행:   0%|          | 0/6 [00:00<?, ?it/s]"
     ]
    }
   ],
   "source": [
    "data_points=[]\n",
    "for fname in tqdm(pkl_files, desc=\"astype 진행\"):\n",
    "    df = pd.read_pickle(os.path.join(output_dir, fname))\n",
    "    length=len(df)\n",
    "    print(f\"before: {length}\")\n",
    "    df = df.astype({\"PID\":\"int32\", \n",
    "                    \"paragraph_index\":np.int16, \n",
    "                    \"generated\": np.int16})\n",
    "    print(f\"after: {length}\")\n",
    "\n",
    "    save_full_path=os.path.join(save_dir, fname)\n",
    "    df.to_pickle(save_full_path)\n",
    "    print(f\"[Saved]{save_full_path} 저장 완료 🗂️\")\n",
    "    data_points.append(length)"
   ]
  },
  {
   "cell_type": "code",
   "execution_count": null,
   "id": "b2848d58",
   "metadata": {},
   "outputs": [],
   "source": [
    "sum(data_points)"
   ]
  },
  {
   "cell_type": "code",
   "execution_count": null,
   "id": "1a0f59ea",
   "metadata": {},
   "outputs": [],
   "source": []
  },
  {
   "cell_type": "code",
   "execution_count": null,
   "id": "9b3f2b59",
   "metadata": {},
   "outputs": [],
   "source": []
  },
  {
   "cell_type": "code",
   "execution_count": null,
   "id": "c63d5623",
   "metadata": {},
   "outputs": [],
   "source": []
  }
 ],
 "metadata": {
  "kernelspec": {
   "display_name": "datasci",
   "language": "python",
   "name": "python3"
  },
  "language_info": {
   "codemirror_mode": {
    "name": "ipython",
    "version": 3
   },
   "file_extension": ".py",
   "mimetype": "text/x-python",
   "name": "python",
   "nbconvert_exporter": "python",
   "pygments_lexer": "ipython3",
   "version": "3.10.12"
  }
 },
 "nbformat": 4,
 "nbformat_minor": 5
}

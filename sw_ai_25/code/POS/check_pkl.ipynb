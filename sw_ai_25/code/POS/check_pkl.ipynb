{
 "cells": [
  {
   "cell_type": "code",
   "execution_count": 1,
   "id": "9e8f8309",
   "metadata": {},
   "outputs": [],
   "source": [
    "import os\n",
    "import pickle \n",
    "import numpy as np\n",
    "import pandas as pd\n",
    "import re\n",
    "from pprint import pprint"
   ]
  },
  {
   "cell_type": "code",
   "execution_count": 2,
   "id": "76ee3d4c",
   "metadata": {},
   "outputs": [
    {
     "name": "stdout",
     "output_type": "stream",
     "text": [
      "['train_paragraph_pos_0.pkl', 'train_paragraph_pos_1.pkl', 'train_paragraph_pos_2.pkl', 'train_paragraph_pos_3.pkl', 'train_paragraph_pos_4.pkl', 'train_paragraph_pos_5.pkl']\n"
     ]
    }
   ],
   "source": [
    "output_dir=\"../../data/train_pid_paragraph_pos\"\n",
    "start=\"train_paragraph_pos_\"\n",
    "end=\".pkl\"\n",
    "pkl_files = [fname for fname in os.listdir(output_dir) if fname.startswith(start) and fname.endswith(end)]\n",
    "def natural_key(s):\n",
    "    return [int(text) if text.isdigit() else text.lower() for text in re.split('(\\d+)', s)]\n",
    "pkl_files.sort(key=natural_key)\n",
    "print(pkl_files)\n"
   ]
  },
  {
   "cell_type": "markdown",
   "id": "a31ef950",
   "metadata": {},
   "source": [
    "### 파일 크기"
   ]
  },
  {
   "cell_type": "code",
   "execution_count": 3,
   "id": "ae2447e4",
   "metadata": {},
   "outputs": [
    {
     "name": "stdout",
     "output_type": "stream",
     "text": [
      "파일 크기: 292505716 바이트\n",
      "파일 크기: 294683134 바이트\n",
      "파일 크기: 294973189 바이트\n",
      "파일 크기: 297629285 바이트\n",
      "파일 크기: 296104158 바이트\n",
      "파일 크기: 303195295 바이트\n"
     ]
    }
   ],
   "source": [
    "for file_path in sorted(pkl_files):\n",
    "    size = os.path.getsize(os.path.join(output_dir, file_path))\n",
    "    print(f\"파일 크기: {size} 바이트\")"
   ]
  },
  {
   "cell_type": "markdown",
   "id": "045c1524",
   "metadata": {},
   "source": [
    "### 저장 형태 확인"
   ]
  },
  {
   "cell_type": "code",
   "execution_count": 4,
   "id": "adea039b",
   "metadata": {},
   "outputs": [],
   "source": [
    "with open(os.path.join(output_dir, pkl_files[0]), \"rb\") as f:\n",
    "    train_paragraph_pos_0=pickle.load(f)\n"
   ]
  },
  {
   "cell_type": "code",
   "execution_count": 5,
   "id": "d6e339e0",
   "metadata": {},
   "outputs": [
    {
     "data": {
      "text/html": [
       "<div>\n",
       "<style scoped>\n",
       "    .dataframe tbody tr th:only-of-type {\n",
       "        vertical-align: middle;\n",
       "    }\n",
       "\n",
       "    .dataframe tbody tr th {\n",
       "        vertical-align: top;\n",
       "    }\n",
       "\n",
       "    .dataframe thead th {\n",
       "        text-align: right;\n",
       "    }\n",
       "</style>\n",
       "<table border=\"1\" class=\"dataframe\">\n",
       "  <thead>\n",
       "    <tr style=\"text-align: right;\">\n",
       "      <th></th>\n",
       "      <th>PID</th>\n",
       "      <th>title</th>\n",
       "      <th>paragraph_index</th>\n",
       "      <th>paragraph_pos</th>\n",
       "      <th>generated</th>\n",
       "    </tr>\n",
       "  </thead>\n",
       "  <tbody>\n",
       "    <tr>\n",
       "      <th>0</th>\n",
       "      <td>0</td>\n",
       "      <td>카호올라웨섬</td>\n",
       "      <td>0</td>\n",
       "      <td>[(카호올라웨, NNP), (섬, NNG), (은, JX), (하와이, NNP), ...</td>\n",
       "      <td>0</td>\n",
       "    </tr>\n",
       "  </tbody>\n",
       "</table>\n",
       "</div>"
      ],
      "text/plain": [
       "   PID   title  paragraph_index  \\\n",
       "0    0  카호올라웨섬                0   \n",
       "\n",
       "                                       paragraph_pos  generated  \n",
       "0  [(카호올라웨, NNP), (섬, NNG), (은, JX), (하와이, NNP), ...          0  "
      ]
     },
     "execution_count": 5,
     "metadata": {},
     "output_type": "execute_result"
    }
   ],
   "source": [
    "train_paragraph_pos_0.head(1)"
   ]
  },
  {
   "cell_type": "code",
   "execution_count": 6,
   "id": "a15ec9dd",
   "metadata": {},
   "outputs": [
    {
     "data": {
      "text/plain": [
       "PID                 int64\n",
       "title              object\n",
       "paragraph_index     int64\n",
       "paragraph_pos      object\n",
       "generated           int64\n",
       "dtype: object"
      ]
     },
     "execution_count": 6,
     "metadata": {},
     "output_type": "execute_result"
    }
   ],
   "source": [
    "train_paragraph_pos_0.dtypes"
   ]
  },
  {
   "cell_type": "markdown",
   "id": "cf510465",
   "metadata": {},
   "source": [
    "### 전체 데이터 개수 및 title 연속 여부"
   ]
  },
  {
   "cell_type": "code",
   "execution_count": 7,
   "id": "03944913",
   "metadata": {},
   "outputs": [
    {
     "name": "stdout",
     "output_type": "stream",
     "text": [
      "train_paragraph_pos_0.pkl: ✅ 모든 title 연속 ⭕️\n",
      "train_paragraph_pos_1.pkl: ✅ 모든 title 연속 ⭕️\n",
      "train_paragraph_pos_2.pkl: ✅ 모든 title 연속 ⭕️\n",
      "train_paragraph_pos_3.pkl: ✅ 모든 title 연속 ⭕️\n",
      "train_paragraph_pos_4.pkl: ✅ 모든 title 연속 ⭕️\n",
      "train_paragraph_pos_5.pkl: ✅ 모든 title 연속 ⭕️\n"
     ]
    }
   ],
   "source": [
    "data_points=[]\n",
    "titles=[]\n",
    "paragraph=[]\n",
    "\n",
    "nan_list=[]\n",
    "nan_details = []\n",
    "df_null = None\n",
    "for file_name in pkl_files:\n",
    "    with open(os.path.join(output_dir, file_name), \"rb\") as f:\n",
    "        sentence=pickle.load(f)\n",
    "        # data points\n",
    "        titles.append(sentence[\"title\"].nunique())\n",
    "        paragraph.append(sentence.groupby(['title', 'paragraph_index']).ngroups)\n",
    "        data_points.append(len(sentence))\n",
    "        # title 연속 여부\n",
    "        block_titles = sentence['title'][sentence['title'] != sentence['title'].shift()].tolist()\n",
    "        unique_titles = sentence['title'].unique().tolist()\n",
    "        if sorted(block_titles) == sorted(unique_titles):\n",
    "            print(f\"{file_name}: ✅ 모든 title 연속 ⭕️\")\n",
    "        else:\n",
    "            print(f\"{file_name}⚠️  모든 title 연속 ❌\")\n",
    "        # 결측치\n",
    "        nan_bool=sentence.isnull().values.any()\n",
    "        nan_list.append(nan_bool)\n",
    "        if nan_bool:\n",
    "            df_null = sentence[sentence.isnull().any(axis=1)]\n",
    "            nan_details.append((file_name, df_null))"
   ]
  },
  {
   "cell_type": "code",
   "execution_count": 8,
   "id": "e74b3736",
   "metadata": {},
   "outputs": [
    {
     "name": "stdout",
     "output_type": "stream",
     "text": [
      "title: 97172\n",
      "paragraph: 1226364\n",
      "total(sentence): 1226364\n"
     ]
    }
   ],
   "source": [
    "print(f\"title: {sum(titles)}\")\n",
    "print(f\"paragraph: {sum(paragraph)}\")\n",
    "print(f\"total(sentence): {sum(data_points)}\")"
   ]
  },
  {
   "cell_type": "markdown",
   "id": "28caf77a",
   "metadata": {},
   "source": [
    "### 결측치"
   ]
  },
  {
   "cell_type": "code",
   "execution_count": 9,
   "id": "d49f8d36",
   "metadata": {},
   "outputs": [
    {
     "name": "stdout",
     "output_type": "stream",
     "text": [
      "✅ 결측치 없음\n"
     ]
    }
   ],
   "source": [
    "if not nan_list:\n",
    "    print(\"⚠️ nan_list ❌\")\n",
    "elif any(nan_list):\n",
    "    print(\"⚠️ 결측치 존재\")\n",
    "else:\n",
    "    print(\"✅ 결측치 없음\")\n"
   ]
  }
 ],
 "metadata": {
  "kernelspec": {
   "display_name": "datasci",
   "language": "python",
   "name": "python3"
  },
  "language_info": {
   "codemirror_mode": {
    "name": "ipython",
    "version": 3
   },
   "file_extension": ".py",
   "mimetype": "text/x-python",
   "name": "python",
   "nbconvert_exporter": "python",
   "pygments_lexer": "ipython3",
   "version": "3.10.12"
  }
 },
 "nbformat": 4,
 "nbformat_minor": 5
}

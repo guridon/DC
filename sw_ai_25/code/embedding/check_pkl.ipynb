{
 "cells": [
  {
   "cell_type": "code",
   "execution_count": 30,
   "id": "9e8f8309",
   "metadata": {},
   "outputs": [],
   "source": [
    "import os\n",
    "import pickle \n",
    "import numpy as np\n",
    "import pandas as pd\n",
    "import re\n"
   ]
  },
  {
   "cell_type": "code",
   "execution_count": null,
   "id": "76ee3d4c",
   "metadata": {},
   "outputs": [],
   "source": [
    "output_dir=\"../../data/train_sentence_pkl\"\n",
    "pkl_files = [fname for fname in os.listdir(output_dir) if fname.startswith(\"sentence_\") and fname.endswith(\".pkl\")]\n",
    "def natural_key(s):\n",
    "    return [int(text) if text.isdigit() else text.lower() for text in re.split('(\\d+)', s)]\n",
    "pkl_files.sort(key=natural_key)\n",
    "print(pkl_files)\n"
   ]
  },
  {
   "cell_type": "code",
   "execution_count": 9,
   "id": "ae2447e4",
   "metadata": {},
   "outputs": [
    {
     "name": "stdout",
     "output_type": "stream",
     "text": [
      "파일 크기: 660154044 바이트\n",
      "파일 크기: 660140137 바이트\n",
      "파일 크기: 660331647 바이트\n",
      "파일 크기: 659210931 바이트\n",
      "파일 크기: 660175960 바이트\n",
      "파일 크기: 660049060 바이트\n",
      "파일 크기: 660248623 바이트\n",
      "파일 크기: 659647207 바이트\n",
      "파일 크기: 659922195 바이트\n",
      "파일 크기: 279403072 바이트\n",
      "파일 크기: 660831294 바이트\n",
      "파일 크기: 659023740 바이트\n",
      "파일 크기: 659922660 바이트\n",
      "파일 크기: 660756032 바이트\n",
      "파일 크기: 659245588 바이트\n",
      "파일 크기: 659906184 바이트\n",
      "파일 크기: 660442959 바이트\n",
      "파일 크기: 659990378 바이트\n"
     ]
    }
   ],
   "source": [
    "for file_path in sorted(pkl_files):\n",
    "    size = os.path.getsize(os.path.join(output_dir, file_path))\n",
    "    print(f\"파일 크기: {size} 바이트\")"
   ]
  },
  {
   "cell_type": "code",
   "execution_count": 10,
   "id": "adea039b",
   "metadata": {},
   "outputs": [],
   "source": [
    "with open(\"../../data/train_sentence_pkl/sentence_1.pkl\", \"rb\") as f:\n",
    "    sentence_1=pickle.load(f)\n"
   ]
  },
  {
   "cell_type": "code",
   "execution_count": 16,
   "id": "d6e339e0",
   "metadata": {},
   "outputs": [
    {
     "data": {
      "text/html": [
       "<div>\n",
       "<style scoped>\n",
       "    .dataframe tbody tr th:only-of-type {\n",
       "        vertical-align: middle;\n",
       "    }\n",
       "\n",
       "    .dataframe tbody tr th {\n",
       "        vertical-align: top;\n",
       "    }\n",
       "\n",
       "    .dataframe thead th {\n",
       "        text-align: right;\n",
       "    }\n",
       "</style>\n",
       "<table border=\"1\" class=\"dataframe\">\n",
       "  <thead>\n",
       "    <tr style=\"text-align: right;\">\n",
       "      <th></th>\n",
       "      <th>title</th>\n",
       "      <th>paragraph_index</th>\n",
       "      <th>sentence_index</th>\n",
       "      <th>sentence_text</th>\n",
       "      <th>generated</th>\n",
       "      <th>sentence_emb</th>\n",
       "      <th>lof</th>\n",
       "    </tr>\n",
       "  </thead>\n",
       "  <tbody>\n",
       "    <tr>\n",
       "      <th>0</th>\n",
       "      <td>카호올라웨섬</td>\n",
       "      <td>0</td>\n",
       "      <td>0</td>\n",
       "      <td>카호올라웨섬은 하와이 제도를 구성하는 8개의 화산섬 가운데 하나로 면적은 115.5...</td>\n",
       "      <td>0</td>\n",
       "      <td>[0.07698278, -0.53245205, -0.32872903, 0.04286...</td>\n",
       "      <td>1.049367</td>\n",
       "    </tr>\n",
       "    <tr>\n",
       "      <th>1</th>\n",
       "      <td>카호올라웨섬</td>\n",
       "      <td>0</td>\n",
       "      <td>1</td>\n",
       "      <td>하와이 제도에서 가장 작은 화산섬이자 무인도이며 길이는 18km, 너비는 10km이다.</td>\n",
       "      <td>0</td>\n",
       "      <td>[0.14434224, -0.4719102, -0.3024025, -0.042807...</td>\n",
       "      <td>1.077039</td>\n",
       "    </tr>\n",
       "    <tr>\n",
       "      <th>2</th>\n",
       "      <td>카호올라웨섬</td>\n",
       "      <td>1</td>\n",
       "      <td>0</td>\n",
       "      <td>마우이섬에서 남서쪽으로 약 11km 정도 떨어진 곳에 위치하며 라나이섬의 남동쪽에 ...</td>\n",
       "      <td>0</td>\n",
       "      <td>[-0.017910827, -0.2825874, -0.36985072, -0.103...</td>\n",
       "      <td>1.189282</td>\n",
       "    </tr>\n",
       "    <tr>\n",
       "      <th>3</th>\n",
       "      <td>카호올라웨섬</td>\n",
       "      <td>1</td>\n",
       "      <td>1</td>\n",
       "      <td>고도가 낮고 북동쪽에서 불어오는 무역풍을 통해 산악 지대에서 내리는 비를 형성하지 ...</td>\n",
       "      <td>0</td>\n",
       "      <td>[-0.08646074, -0.3568326, -0.44792965, -0.0831...</td>\n",
       "      <td>1.242161</td>\n",
       "    </tr>\n",
       "    <tr>\n",
       "      <th>4</th>\n",
       "      <td>카호올라웨섬</td>\n",
       "      <td>1</td>\n",
       "      <td>2</td>\n",
       "      <td>마우이섬 화산의 비그늘에 속해 있기 때문에 섬 전체 면적의 1/4 이상이 부식되어 있다.</td>\n",
       "      <td>0</td>\n",
       "      <td>[-0.14392988, -0.5182802, -0.3657426, -0.07038...</td>\n",
       "      <td>0.999609</td>\n",
       "    </tr>\n",
       "  </tbody>\n",
       "</table>\n",
       "</div>"
      ],
      "text/plain": [
       "    title  paragraph_index  sentence_index  \\\n",
       "0  카호올라웨섬                0               0   \n",
       "1  카호올라웨섬                0               1   \n",
       "2  카호올라웨섬                1               0   \n",
       "3  카호올라웨섬                1               1   \n",
       "4  카호올라웨섬                1               2   \n",
       "\n",
       "                                       sentence_text  generated  \\\n",
       "0  카호올라웨섬은 하와이 제도를 구성하는 8개의 화산섬 가운데 하나로 면적은 115.5...          0   \n",
       "1   하와이 제도에서 가장 작은 화산섬이자 무인도이며 길이는 18km, 너비는 10km이다.          0   \n",
       "2  마우이섬에서 남서쪽으로 약 11km 정도 떨어진 곳에 위치하며 라나이섬의 남동쪽에 ...          0   \n",
       "3  고도가 낮고 북동쪽에서 불어오는 무역풍을 통해 산악 지대에서 내리는 비를 형성하지 ...          0   \n",
       "4  마우이섬 화산의 비그늘에 속해 있기 때문에 섬 전체 면적의 1/4 이상이 부식되어 있다.          0   \n",
       "\n",
       "                                        sentence_emb       lof  \n",
       "0  [0.07698278, -0.53245205, -0.32872903, 0.04286...  1.049367  \n",
       "1  [0.14434224, -0.4719102, -0.3024025, -0.042807...  1.077039  \n",
       "2  [-0.017910827, -0.2825874, -0.36985072, -0.103...  1.189282  \n",
       "3  [-0.08646074, -0.3568326, -0.44792965, -0.0831...  1.242161  \n",
       "4  [-0.14392988, -0.5182802, -0.3657426, -0.07038...  0.999609  "
      ]
     },
     "execution_count": 16,
     "metadata": {},
     "output_type": "execute_result"
    }
   ],
   "source": [
    "sentence_1.head(5)"
   ]
  },
  {
   "cell_type": "code",
   "execution_count": null,
   "id": "03944913",
   "metadata": {},
   "outputs": [],
   "source": [
    "from pprint import pprint\n",
    "data_points=[]\n",
    "titles=[]\n",
    "paragraph=[]\n",
    "for idx in range(1,18):\n",
    "    with open(f\"../../data/train_sentence_pkl/sentence_{idx}.pkl\", \"rb\") as f:\n",
    "        sentence=pickle.load(f)\n",
    "        titles.append(sentence[\"title\"].nunique())\n",
    "        paragraph.append(sentence.groupby(['title', 'paragraph_index']).ngroups)\n",
    "        data_points.append(len(sentence))\n",
    "        # print(sentence.groupby(\"generated\")[\"lof\"].describe())"
   ]
  },
  {
   "cell_type": "code",
   "execution_count": 14,
   "id": "ec13f37c",
   "metadata": {},
   "outputs": [
    {
     "name": "stdout",
     "output_type": "stream",
     "text": [
      "3400014\n"
     ]
    }
   ],
   "source": [
    "print(sum(data_points))"
   ]
  },
  {
   "cell_type": "code",
   "execution_count": 27,
   "id": "eee4b1d7",
   "metadata": {},
   "outputs": [
    {
     "name": "stdout",
     "output_type": "stream",
     "text": [
      "94869\n"
     ]
    }
   ],
   "source": [
    "print(sum(titles))"
   ]
  },
  {
   "cell_type": "code",
   "execution_count": 28,
   "id": "0d90af1c",
   "metadata": {},
   "outputs": [
    {
     "name": "stdout",
     "output_type": "stream",
     "text": [
      "1196870\n"
     ]
    }
   ],
   "source": [
    "print(sum(paragraph))"
   ]
  },
  {
   "cell_type": "code",
   "execution_count": 12,
   "id": "ea6c0d24",
   "metadata": {},
   "outputs": [
    {
     "data": {
      "text/plain": [
       "title              object\n",
       "paragraph_index     int64\n",
       "sentence_index      int64\n",
       "sentence_text      object\n",
       "sentence_emb       object\n",
       "dtype: object"
      ]
     },
     "execution_count": 12,
     "metadata": {},
     "output_type": "execute_result"
    }
   ],
   "source": [
    "sentence_1.dtypes"
   ]
  },
  {
   "cell_type": "code",
   "execution_count": 11,
   "id": "d49f8d36",
   "metadata": {},
   "outputs": [
    {
     "name": "stdout",
     "output_type": "stream",
     "text": [
      "False\n"
     ]
    }
   ],
   "source": [
    "print(sentence_1.isnull().values.any())"
   ]
  },
  {
   "cell_type": "code",
   "execution_count": 19,
   "id": "cf86990c",
   "metadata": {},
   "outputs": [
    {
     "name": "stdout",
     "output_type": "stream",
     "text": [
      "emb_matrix.shape: (14, 768)\n"
     ]
    }
   ],
   "source": [
    "for title, group in sentence_1.groupby('title', sort=False):\n",
    "    # print(f\"title: {title}\")\n",
    "    # print(f\"group: {group}\")\n",
    "    emb_matrix = np.vstack(group['sentence_emb'].values)\n",
    "    # print(emb_matrix)\n",
    "    print(f\"emb_matrix.shape: {emb_matrix.shape}\")\n",
    "\n",
    "    break"
   ]
  }
 ],
 "metadata": {
  "kernelspec": {
   "display_name": "zeroshot",
   "language": "python",
   "name": "python3"
  },
  "language_info": {
   "codemirror_mode": {
    "name": "ipython",
    "version": 3
   },
   "file_extension": ".py",
   "mimetype": "text/x-python",
   "name": "python",
   "nbconvert_exporter": "python",
   "pygments_lexer": "ipython3",
   "version": "3.10.12"
  }
 },
 "nbformat": 4,
 "nbformat_minor": 5
}

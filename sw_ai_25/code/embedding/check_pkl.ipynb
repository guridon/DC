{
 "cells": [
  {
   "cell_type": "code",
   "execution_count": null,
   "id": "9e8f8309",
   "metadata": {},
   "outputs": [],
   "source": [
    "import os\n",
    "import pickle \n",
    "import numpy as np\n",
    "import pandas as pd\n",
    "import re\n"
   ]
  },
  {
   "cell_type": "code",
   "execution_count": null,
   "id": "76ee3d4c",
   "metadata": {},
   "outputs": [],
   "source": [
    "output_dir=\"../../data/train_sentence_pkl\"\n",
    "pkl_files = [fname for fname in os.listdir(output_dir) if fname.startswith(\"sentence_\") and fname.endswith(\".pkl\")]\n",
    "def natural_key(s):\n",
    "    return [int(text) if text.isdigit() else text.lower() for text in re.split('(\\d+)', s)]\n",
    "pkl_files.sort(key=natural_key)\n",
    "print(pkl_files)\n"
   ]
  },
  {
   "cell_type": "markdown",
   "id": "a31ef950",
   "metadata": {},
   "source": [
    "### 파일 크기"
   ]
  },
  {
   "cell_type": "code",
   "execution_count": null,
   "id": "ae2447e4",
   "metadata": {},
   "outputs": [],
   "source": [
    "for file_path in sorted(pkl_files):\n",
    "    size = os.path.getsize(os.path.join(output_dir, file_path))\n",
    "    print(f\"파일 크기: {size} 바이트\")"
   ]
  },
  {
   "cell_type": "markdown",
   "id": "045c1524",
   "metadata": {},
   "source": [
    "### 저장 형태 확인"
   ]
  },
  {
   "cell_type": "code",
   "execution_count": null,
   "id": "adea039b",
   "metadata": {},
   "outputs": [],
   "source": [
    "with open(\"../../data/test_sentence_pkl/sentence_1.pkl\", \"rb\") as f:\n",
    "    sentence_1=pickle.load(f)\n"
   ]
  },
  {
   "cell_type": "code",
   "execution_count": null,
   "id": "d6e339e0",
   "metadata": {},
   "outputs": [],
   "source": [
    "sentence_1.head(1)"
   ]
  },
  {
   "cell_type": "code",
   "execution_count": null,
   "id": "a15ec9dd",
   "metadata": {},
   "outputs": [],
   "source": [
    "sentence_1.dtypes"
   ]
  },
  {
   "cell_type": "markdown",
   "id": "cf510465",
   "metadata": {},
   "source": [
    "### 전체 데이터 개수 및 title 연속 여부"
   ]
  },
  {
   "cell_type": "code",
   "execution_count": null,
   "id": "03944913",
   "metadata": {},
   "outputs": [],
   "source": [
    "from pprint import pprint\n",
    "data_points=[]\n",
    "titles=[]\n",
    "paragraph=[]\n",
    "\n",
    "nan_list=[]\n",
    "for idx in range(1,18):\n",
    "    with open(f\"../../data/train_sentence_pkl/sentence_{idx}.pkl\", \"rb\") as f:\n",
    "        sentence=pickle.load(f)\n",
    "        # data points\n",
    "        titles.append(sentence[\"title\"].nunique())\n",
    "        paragraph.append(sentence.groupby(['title', 'paragraph_index']).ngroups)\n",
    "        data_points.append(len(sentence))\n",
    "        # title 연속 여부\n",
    "        block_titles = sentence['title'][sentence['title'] != sentence['title'].shift()].tolist()\n",
    "        unique_titles = sentence['title'].unique().tolist()\n",
    "        if sorted(block_titles) == sorted(unique_titles):\n",
    "            print(\"✅ 모든 title 연속 ⭕️\")\n",
    "        else:\n",
    "            print(\"⚠️  모든 title 연속 ❌\")\n",
    "        # 결측치\n",
    "        nan_list.append(sentence.isnull().values.any())\n",
    "        # pprint(sentence.groupby(\"generated\")[\"lof\"].describe())"
   ]
  },
  {
   "cell_type": "code",
   "execution_count": null,
   "id": "e74b3736",
   "metadata": {},
   "outputs": [],
   "source": [
    "print(f\"title: {sum(titles)}\")\n",
    "print(f\"paragraph: {sum(paragraph)}\")\n",
    "print(f\"total(sentence): {sum(data_points)}\")"
   ]
  },
  {
   "cell_type": "markdown",
   "id": "28caf77a",
   "metadata": {},
   "source": [
    "### 결측치"
   ]
  },
  {
   "cell_type": "code",
   "execution_count": null,
   "id": "d49f8d36",
   "metadata": {},
   "outputs": [],
   "source": [
    "if any(nan_list):\n",
    "    print(\"✅ 결측치 없음\")\n",
    "else:\n",
    "    print(\"⚠️ 결측치 존재\")"
   ]
  },
  {
   "cell_type": "code",
   "execution_count": null,
   "id": "cf86990c",
   "metadata": {},
   "outputs": [],
   "source": [
    "# emb_shape\n",
    "for title, group in sentence_1.groupby('title', sort=False):\n",
    "    # print(f\"title: {title}\")\n",
    "    # print(f\"group: {group}\")\n",
    "    emb_matrix = np.vstack(group['sentence_emb'].values)\n",
    "    # print(emb_matrix)\n",
    "    print(f\"emb_matrix.shape: {emb_matrix.shape}\")\n",
    "\n",
    "    break"
   ]
  }
 ],
 "metadata": {
  "kernelspec": {
   "display_name": "zeroshot",
   "language": "python",
   "name": "python3"
  },
  "language_info": {
   "codemirror_mode": {
    "name": "ipython",
    "version": 3
   },
   "file_extension": ".py",
   "mimetype": "text/x-python",
   "name": "python",
   "nbconvert_exporter": "python",
   "pygments_lexer": "ipython3",
   "version": "3.10.12"
  }
 },
 "nbformat": 4,
 "nbformat_minor": 5
}

{
 "cells": [
  {
   "cell_type": "code",
   "execution_count": 1,
   "id": "9e8f8309",
   "metadata": {},
   "outputs": [],
   "source": [
    "import os\n",
    "import pickle \n",
    "import numpy as np\n",
    "import pandas as pd\n",
    "import re\n",
    "from pprint import pprint"
   ]
  },
  {
   "cell_type": "code",
   "execution_count": 2,
   "id": "76ee3d4c",
   "metadata": {},
   "outputs": [
    {
     "name": "stdout",
     "output_type": "stream",
     "text": [
      "['sentence_1.pkl', 'sentence_2.pkl', 'sentence_3.pkl', 'sentence_4.pkl', 'sentence_5.pkl', 'sentence_6.pkl', 'sentence_7.pkl', 'sentence_8.pkl', 'sentence_9.pkl', 'sentence_10.pkl', 'sentence_11.pkl', 'sentence_12.pkl', 'sentence_13.pkl', 'sentence_14.pkl', 'sentence_15.pkl', 'sentence_16.pkl', 'sentence_17.pkl', 'sentence_18.pkl']\n"
     ]
    }
   ],
   "source": [
    "output_dir=\"../../data/train_sentence_pkl\"\n",
    "start=\"sentence_\"\n",
    "end=\".pkl\"\n",
    "pkl_files = [fname for fname in os.listdir(output_dir) if fname.startswith(start) and fname.endswith(end)]\n",
    "def natural_key(s):\n",
    "    return [int(text) if text.isdigit() else text.lower() for text in re.split('(\\d+)', s)]\n",
    "pkl_files.sort(key=natural_key)\n",
    "print(pkl_files)"
   ]
  },
  {
   "cell_type": "markdown",
   "id": "a31ef950",
   "metadata": {},
   "source": [
    "### 파일 크기"
   ]
  },
  {
   "cell_type": "code",
   "execution_count": 3,
   "id": "ae2447e4",
   "metadata": {},
   "outputs": [
    {
     "name": "stdout",
     "output_type": "stream",
     "text": [
      "파일 크기: 660154044 바이트\n",
      "파일 크기: 660140137 바이트\n",
      "파일 크기: 660331647 바이트\n",
      "파일 크기: 659210931 바이트\n",
      "파일 크기: 660175960 바이트\n",
      "파일 크기: 660049060 바이트\n",
      "파일 크기: 660248623 바이트\n",
      "파일 크기: 659647207 바이트\n",
      "파일 크기: 659922195 바이트\n",
      "파일 크기: 279403072 바이트\n",
      "파일 크기: 660831294 바이트\n",
      "파일 크기: 659023740 바이트\n",
      "파일 크기: 659922660 바이트\n",
      "파일 크기: 660756032 바이트\n",
      "파일 크기: 659245588 바이트\n",
      "파일 크기: 659906184 바이트\n",
      "파일 크기: 660442959 바이트\n",
      "파일 크기: 659990378 바이트\n"
     ]
    }
   ],
   "source": [
    "for file_path in sorted(pkl_files):\n",
    "    size = os.path.getsize(os.path.join(output_dir, file_path))\n",
    "    print(f\"파일 크기: {size} 바이트\")"
   ]
  },
  {
   "cell_type": "markdown",
   "id": "045c1524",
   "metadata": {},
   "source": [
    "### 저장 형태 확인"
   ]
  },
  {
   "cell_type": "code",
   "execution_count": 4,
   "id": "adea039b",
   "metadata": {},
   "outputs": [],
   "source": [
    "with open(\"../../data/test_sentence_pkl/sentence_1.pkl\", \"rb\") as f:\n",
    "    sentence_1=pickle.load(f)\n"
   ]
  },
  {
   "cell_type": "code",
   "execution_count": 5,
   "id": "d6e339e0",
   "metadata": {},
   "outputs": [
    {
     "data": {
      "text/html": [
       "<div>\n",
       "<style scoped>\n",
       "    .dataframe tbody tr th:only-of-type {\n",
       "        vertical-align: middle;\n",
       "    }\n",
       "\n",
       "    .dataframe tbody tr th {\n",
       "        vertical-align: top;\n",
       "    }\n",
       "\n",
       "    .dataframe thead th {\n",
       "        text-align: right;\n",
       "    }\n",
       "</style>\n",
       "<table border=\"1\" class=\"dataframe\">\n",
       "  <thead>\n",
       "    <tr style=\"text-align: right;\">\n",
       "      <th></th>\n",
       "      <th>title</th>\n",
       "      <th>paragraph_index</th>\n",
       "      <th>sentence_index</th>\n",
       "      <th>sentence_text</th>\n",
       "      <th>sentence_emb</th>\n",
       "      <th>lof</th>\n",
       "    </tr>\n",
       "  </thead>\n",
       "  <tbody>\n",
       "    <tr>\n",
       "      <th>0</th>\n",
       "      <td>공중 도덕의 의의와 필요성</td>\n",
       "      <td>0</td>\n",
       "      <td>0</td>\n",
       "      <td>도덕이란 원래 개인의 자각에서 출발해 자기 의지로써 행동하는 일이다.</td>\n",
       "      <td>[-0.051884104, -0.5708666, -0.3369897, -0.0271...</td>\n",
       "      <td>1.020817</td>\n",
       "    </tr>\n",
       "  </tbody>\n",
       "</table>\n",
       "</div>"
      ],
      "text/plain": [
       "            title  paragraph_index  sentence_index  \\\n",
       "0  공중 도덕의 의의와 필요성                0               0   \n",
       "\n",
       "                            sentence_text  \\\n",
       "0  도덕이란 원래 개인의 자각에서 출발해 자기 의지로써 행동하는 일이다.   \n",
       "\n",
       "                                        sentence_emb       lof  \n",
       "0  [-0.051884104, -0.5708666, -0.3369897, -0.0271...  1.020817  "
      ]
     },
     "execution_count": 5,
     "metadata": {},
     "output_type": "execute_result"
    }
   ],
   "source": [
    "sentence_1.head(1)"
   ]
  },
  {
   "cell_type": "code",
   "execution_count": 6,
   "id": "a15ec9dd",
   "metadata": {},
   "outputs": [
    {
     "data": {
      "text/plain": [
       "title               object\n",
       "paragraph_index      int64\n",
       "sentence_index       int64\n",
       "sentence_text       object\n",
       "sentence_emb        object\n",
       "lof                float64\n",
       "dtype: object"
      ]
     },
     "execution_count": 6,
     "metadata": {},
     "output_type": "execute_result"
    }
   ],
   "source": [
    "sentence_1.dtypes"
   ]
  },
  {
   "cell_type": "markdown",
   "id": "cf510465",
   "metadata": {},
   "source": [
    "### 전체 데이터 개수 및 title 연속 여부"
   ]
  },
  {
   "cell_type": "code",
   "execution_count": 7,
   "id": "03944913",
   "metadata": {},
   "outputs": [
    {
     "name": "stdout",
     "output_type": "stream",
     "text": [
      "sentence_1.pkl: ✅ 모든 title 연속 ⭕️\n",
      "sentence_2.pkl: ✅ 모든 title 연속 ⭕️\n",
      "sentence_3.pkl: ✅ 모든 title 연속 ⭕️\n",
      "sentence_4.pkl: ✅ 모든 title 연속 ⭕️\n",
      "sentence_5.pkl: ✅ 모든 title 연속 ⭕️\n",
      "sentence_6.pkl: ✅ 모든 title 연속 ⭕️\n",
      "sentence_7.pkl: ✅ 모든 title 연속 ⭕️\n",
      "sentence_8.pkl: ✅ 모든 title 연속 ⭕️\n",
      "sentence_9.pkl: ✅ 모든 title 연속 ⭕️\n",
      "sentence_10.pkl: ✅ 모든 title 연속 ⭕️\n",
      "sentence_11.pkl: ✅ 모든 title 연속 ⭕️\n",
      "sentence_12.pkl: ✅ 모든 title 연속 ⭕️\n",
      "sentence_13.pkl: ✅ 모든 title 연속 ⭕️\n",
      "sentence_14.pkl: ✅ 모든 title 연속 ⭕️\n",
      "sentence_15.pkl: ✅ 모든 title 연속 ⭕️\n",
      "sentence_16.pkl: ✅ 모든 title 연속 ⭕️\n",
      "sentence_17.pkl: ✅ 모든 title 연속 ⭕️\n",
      "sentence_18.pkl: ✅ 모든 title 연속 ⭕️\n"
     ]
    }
   ],
   "source": [
    "data_points=[]\n",
    "titles=[]\n",
    "paragraph=[]\n",
    "\n",
    "nan_list=[]\n",
    "nan_details = []\n",
    "df_null = None\n",
    "for file_name in pkl_files:\n",
    "    with open(os.path.join(output_dir, file_name), \"rb\") as f:\n",
    "        sentence=pickle.load(f)\n",
    "        # data points\n",
    "        titles.append(sentence[\"title\"].nunique())\n",
    "        paragraph.append(sentence.groupby(['title', 'paragraph_index']).ngroups)\n",
    "        data_points.append(len(sentence))\n",
    "        # title 연속 여부\n",
    "        block_titles = sentence['title'][sentence['title'] != sentence['title'].shift()].tolist()\n",
    "        unique_titles = sentence['title'].unique().tolist()\n",
    "        if sorted(block_titles) == sorted(unique_titles):\n",
    "            print(f\"{file_name}: ✅ 모든 title 연속 ⭕️\")\n",
    "        else:\n",
    "            print(f\"{file_name}⚠️  모든 title 연속 ❌\")\n",
    "        # 결측치\n",
    "        nan_bool=sentence.isnull().values.any()\n",
    "        nan_list.append(nan_bool)\n",
    "        if nan_bool:\n",
    "            df_null = sentence[sentence.isnull().any(axis=1)]\n",
    "            nan_details.append((file_name, df_null))"
   ]
  },
  {
   "cell_type": "code",
   "execution_count": 8,
   "id": "e74b3736",
   "metadata": {},
   "outputs": [
    {
     "name": "stdout",
     "output_type": "stream",
     "text": [
      "title: 97172\n",
      "paragraph: 1226364\n",
      "total(sentence): 3484607\n"
     ]
    }
   ],
   "source": [
    "print(f\"title: {sum(titles)}\")\n",
    "print(f\"paragraph: {sum(paragraph)}\")\n",
    "print(f\"total(sentence): {sum(data_points)}\")"
   ]
  },
  {
   "cell_type": "markdown",
   "id": "28caf77a",
   "metadata": {},
   "source": [
    "### 결측치"
   ]
  },
  {
   "cell_type": "code",
   "execution_count": 9,
   "id": "d49f8d36",
   "metadata": {},
   "outputs": [
    {
     "name": "stdout",
     "output_type": "stream",
     "text": [
      "✅ 결측치 없음\n"
     ]
    }
   ],
   "source": [
    "if not nan_list:\n",
    "    print(\"⚠️ nan_list ❌\")\n",
    "elif any(nan_list):\n",
    "    print(\"⚠️ 결측치 존재\")\n",
    "else:\n",
    "    print(\"✅ 결측치 없음\")"
   ]
  },
  {
   "cell_type": "code",
   "execution_count": null,
   "id": "cf86990c",
   "metadata": {},
   "outputs": [],
   "source": [
    "# emb_shape\n",
    "for title, group in sentence_1.groupby('title', sort=False):\n",
    "    # print(f\"title: {title}\")\n",
    "    # print(f\"group: {group}\")\n",
    "    emb_matrix = np.vstack(group['sentence_emb'].values)\n",
    "    # print(emb_matrix)\n",
    "    print(f\"emb_matrix.shape: {emb_matrix.shape}\")\n",
    "\n",
    "    break"
   ]
  }
 ],
 "metadata": {
  "kernelspec": {
   "display_name": "zeroshot",
   "language": "python",
   "name": "python3"
  },
  "language_info": {
   "codemirror_mode": {
    "name": "ipython",
    "version": 3
   },
   "file_extension": ".py",
   "mimetype": "text/x-python",
   "name": "python",
   "nbconvert_exporter": "python",
   "pygments_lexer": "ipython3",
   "version": "3.10.12"
  }
 },
 "nbformat": 4,
 "nbformat_minor": 5
}
